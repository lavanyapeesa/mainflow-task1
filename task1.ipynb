{
  "metadata": {
    "kernelspec": {
      "name": "python",
      "display_name": "Python (Pyodide)",
      "language": "python"
    },
    "language_info": {
      "codemirror_mode": {
        "name": "python",
        "version": 3
      },
      "file_extension": ".py",
      "mimetype": "text/x-python",
      "name": "python",
      "nbconvert_exporter": "python",
      "pygments_lexer": "ipython3",
      "version": "3.8"
    }
  },
  "nbformat_minor": 4,
  "nbformat": 4,
  "cells": [
    {
      "cell_type": "code",
      "source": "#create list\nmy_list=[1,2,3,4,5]\n#add a element to the list\nmy_list.append(6)\n#remove a element from the list\nmy_list.remove(4)\n#add a element at specific position \nmy_list[0] = 10\n#update\nprint(\"updated list\", my_list)",
      "metadata": {
        "trusted": true
      },
      "outputs": [
        {
          "name": "stdout",
          "text": "updated list [10, 2, 3, 5, 6]\n",
          "output_type": "stream"
        }
      ],
      "execution_count": 7
    },
    {
      "cell_type": "code",
      "source": "#create a dictionary\nmy_dict={'name':'lavanya' , 'age': 19,'gender':'female'}\n#add new pair\nmy_dict['city']='vijayawada'\n#remove a pair \ndel my_dict ['age']\n#modify dictionary\nmy_dict['name']='peesalavanya'\nprint(\"updated dictionary:\",my_dict)",
      "metadata": {
        "trusted": true
      },
      "outputs": [
        {
          "name": "stdout",
          "text": "updated dictionary: {'name': 'peesalavanya', 'gender': 'female', 'city': 'vijayawada'}\n",
          "output_type": "stream"
        }
      ],
      "execution_count": 16
    },
    {
      "cell_type": "code",
      "source": "#crete a set\nmy_set={1,2,3,4,5}\n#add a element to set\nmy_set.add(6)\n#delete a element \nmy_set.remove(2)\nprint(\"updated set is:\",my_set)",
      "metadata": {
        "trusted": true
      },
      "outputs": [
        {
          "name": "stdout",
          "text": "updated set is: {1, 3, 4, 5, 6}\n",
          "output_type": "stream"
        }
      ],
      "execution_count": 19
    },
    {
      "cell_type": "code",
      "source": "",
      "metadata": {
        "trusted": true
      },
      "outputs": [],
      "execution_count": null
    }
  ]
}